{
 "cells": [
  {
   "cell_type": "code",
   "execution_count": 1,
   "id": "1bc76c82-e541-4a1c-b959-2b446bb893b3",
   "metadata": {},
   "outputs": [],
   "source": [
    "import pickle"
   ]
  },
  {
   "cell_type": "code",
   "execution_count": 5,
   "id": "7c660bbb-f8ce-483d-84d0-88b1a0bf7488",
   "metadata": {},
   "outputs": [],
   "source": [
    "loaded_model=pickle.load(open(\"finalized_model_randomforestclassifier.sav\",\"rb\"))\n",
    "result=loaded_model.predict([[2,25,1,2,10,15,20,25,25,20,10,15,20,20,10,30,15,10,15]])"
   ]
  },
  {
   "cell_type": "code",
   "execution_count": 6,
   "id": "5db9acfd-818d-451a-aab1-4fa500593530",
   "metadata": {},
   "outputs": [
    {
     "data": {
      "text/plain": [
       "array([0], dtype=int64)"
      ]
     },
     "execution_count": 6,
     "metadata": {},
     "output_type": "execute_result"
    }
   ],
   "source": [
    "result"
   ]
  },
  {
   "cell_type": "code",
   "execution_count": null,
   "id": "906eeaff-c9be-4c3c-bca4-c2d2146ea92c",
   "metadata": {},
   "outputs": [],
   "source": []
  }
 ],
 "metadata": {
  "kernelspec": {
   "display_name": "Python 3 (ipykernel)",
   "language": "python",
   "name": "python3"
  },
  "language_info": {
   "codemirror_mode": {
    "name": "ipython",
    "version": 3
   },
   "file_extension": ".py",
   "mimetype": "text/x-python",
   "name": "python",
   "nbconvert_exporter": "python",
   "pygments_lexer": "ipython3",
   "version": "3.11.5"
  }
 },
 "nbformat": 4,
 "nbformat_minor": 5
}
